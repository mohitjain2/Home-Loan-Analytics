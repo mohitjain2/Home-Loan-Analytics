{
  "cells": [
    {
      "cell_type": "markdown",
      "metadata": {
        "id": "edTNksfU7XKD"
      },
      "source": [
        "Import the data table to pd Data Frame"
      ]
    },
    {
      "cell_type": "code",
      "execution_count": 8,
      "metadata": {
        "id": "IHcRSZhX8MuY"
      },
      "outputs": [],
      "source": [
        "import pandas as pd\n",
        "import matplotlib.pyplot as plt\n",
        "import sqlite3\n",
        "from sklearn.model_selection import train_test_split\n",
        "from sklearn.ensemble import RandomForestClassifier\n",
        "import numpy as np\n",
        "from xgboost import XGBClassifier\n",
        "import seaborn as sns\n",
        "from sklearn.feature_selection import VarianceThreshold\n",
        "from sklearn.preprocessing import StandardScaler\n",
        "from sklearn.linear_model import LogisticRegression\n",
        "from sklearn.metrics import accuracy_score, classification_report, confusion_matrix"
      ]
    },
    {
      "cell_type": "code",
      "execution_count": 9,
      "metadata": {
        "id": "kU4gvtOzgsL-"
      },
      "outputs": [],
      "source": [
        "# from google.colab import drive\n",
        "# drive.mount('/content/drive')"
      ]
    },
    {
      "cell_type": "code",
      "execution_count": 10,
      "metadata": {
        "colab": {
          "base_uri": "https://localhost:8080/"
        },
        "id": "zwSkfwTt7WzN",
        "outputId": "5505ceaf-3c2f-475a-970e-d2e62d9ce6a3"
      },
      "outputs": [
        {
          "name": "stdout",
          "output_type": "stream",
          "text": [
            "[('raw_data',), ('Loan_Approval',), ('Interest_Rate_Features',), ('Property_Values',), ('Risk_classifier',)]\n"
          ]
        }
      ],
      "source": [
        "# connect to sqlite3 database\n",
        "\n",
        "# Replace with your database file path in Google Drive\n",
        "db_path = 'my_database.db'\n",
        "\n",
        "conn = sqlite3.connect(db_path)\n",
        "cursor = conn.cursor()\n",
        "\n",
        "df_encoded = pd.read_sql(\"SELECT * FROM Loan_Approval\", conn)\n",
        "# Example query (replace with your actual query)\n",
        "cursor.execute(\"SELECT name FROM sqlite_master WHERE type='table';\")\n",
        "tables = cursor.fetchall()\n",
        "print(tables)\n",
        "\n",
        "conn.close()"
      ]
    },
    {
      "cell_type": "code",
      "execution_count": 11,
      "metadata": {
        "colab": {
          "base_uri": "https://localhost:8080/",
          "height": 273
        },
        "id": "AAnQ-ghY8t95",
        "outputId": "bf662359-60f5-413f-c0fe-7e03db338840"
      },
      "outputs": [
        {
          "data": {
            "text/html": [
              "<div>\n",
              "<style scoped>\n",
              "    .dataframe tbody tr th:only-of-type {\n",
              "        vertical-align: middle;\n",
              "    }\n",
              "\n",
              "    .dataframe tbody tr th {\n",
              "        vertical-align: top;\n",
              "    }\n",
              "\n",
              "    .dataframe thead th {\n",
              "        text-align: right;\n",
              "    }\n",
              "</style>\n",
              "<table border=\"1\" class=\"dataframe\">\n",
              "  <thead>\n",
              "    <tr style=\"text-align: right;\">\n",
              "      <th></th>\n",
              "      <th>action_taken</th>\n",
              "      <th>purchaser_type</th>\n",
              "      <th>preapproval</th>\n",
              "      <th>reverse_mortgage</th>\n",
              "      <th>open-end_line_of_credit</th>\n",
              "      <th>loan_amount</th>\n",
              "      <th>loan_to_value_ratio</th>\n",
              "      <th>interest_rate</th>\n",
              "      <th>loan_term</th>\n",
              "      <th>negative_amortization</th>\n",
              "      <th>...</th>\n",
              "      <th>occupancy_type_2</th>\n",
              "      <th>occupancy_type_3</th>\n",
              "      <th>submission_of_application_2</th>\n",
              "      <th>initially_payable_to_institution_2</th>\n",
              "      <th>aus-1_2</th>\n",
              "      <th>aus-1_3</th>\n",
              "      <th>aus-1_4</th>\n",
              "      <th>aus-1_5</th>\n",
              "      <th>aus-1_6</th>\n",
              "      <th>aus-1_7</th>\n",
              "    </tr>\n",
              "  </thead>\n",
              "  <tbody>\n",
              "    <tr>\n",
              "      <th>0</th>\n",
              "      <td>5</td>\n",
              "      <td>2</td>\n",
              "      <td>1</td>\n",
              "      <td>0</td>\n",
              "      <td>0</td>\n",
              "      <td>205000.0</td>\n",
              "      <td>80.0</td>\n",
              "      <td>7.000</td>\n",
              "      <td>360.0</td>\n",
              "      <td>0</td>\n",
              "      <td>...</td>\n",
              "      <td>0</td>\n",
              "      <td>0</td>\n",
              "      <td>0</td>\n",
              "      <td>0</td>\n",
              "      <td>0</td>\n",
              "      <td>0</td>\n",
              "      <td>0</td>\n",
              "      <td>0</td>\n",
              "      <td>1</td>\n",
              "      <td>0</td>\n",
              "    </tr>\n",
              "    <tr>\n",
              "      <th>1</th>\n",
              "      <td>5</td>\n",
              "      <td>2</td>\n",
              "      <td>1</td>\n",
              "      <td>0</td>\n",
              "      <td>0</td>\n",
              "      <td>235000.0</td>\n",
              "      <td>80.0</td>\n",
              "      <td>6.500</td>\n",
              "      <td>360.0</td>\n",
              "      <td>0</td>\n",
              "      <td>...</td>\n",
              "      <td>0</td>\n",
              "      <td>0</td>\n",
              "      <td>0</td>\n",
              "      <td>0</td>\n",
              "      <td>0</td>\n",
              "      <td>0</td>\n",
              "      <td>0</td>\n",
              "      <td>0</td>\n",
              "      <td>1</td>\n",
              "      <td>0</td>\n",
              "    </tr>\n",
              "    <tr>\n",
              "      <th>2</th>\n",
              "      <td>5</td>\n",
              "      <td>2</td>\n",
              "      <td>1</td>\n",
              "      <td>0</td>\n",
              "      <td>0</td>\n",
              "      <td>505000.0</td>\n",
              "      <td>80.0</td>\n",
              "      <td>5.625</td>\n",
              "      <td>360.0</td>\n",
              "      <td>0</td>\n",
              "      <td>...</td>\n",
              "      <td>0</td>\n",
              "      <td>0</td>\n",
              "      <td>0</td>\n",
              "      <td>0</td>\n",
              "      <td>0</td>\n",
              "      <td>0</td>\n",
              "      <td>0</td>\n",
              "      <td>0</td>\n",
              "      <td>1</td>\n",
              "      <td>0</td>\n",
              "    </tr>\n",
              "    <tr>\n",
              "      <th>3</th>\n",
              "      <td>5</td>\n",
              "      <td>2</td>\n",
              "      <td>1</td>\n",
              "      <td>0</td>\n",
              "      <td>0</td>\n",
              "      <td>685000.0</td>\n",
              "      <td>80.0</td>\n",
              "      <td>6.375</td>\n",
              "      <td>360.0</td>\n",
              "      <td>0</td>\n",
              "      <td>...</td>\n",
              "      <td>0</td>\n",
              "      <td>0</td>\n",
              "      <td>0</td>\n",
              "      <td>0</td>\n",
              "      <td>0</td>\n",
              "      <td>0</td>\n",
              "      <td>0</td>\n",
              "      <td>0</td>\n",
              "      <td>1</td>\n",
              "      <td>0</td>\n",
              "    </tr>\n",
              "    <tr>\n",
              "      <th>4</th>\n",
              "      <td>5</td>\n",
              "      <td>2</td>\n",
              "      <td>1</td>\n",
              "      <td>0</td>\n",
              "      <td>0</td>\n",
              "      <td>455000.0</td>\n",
              "      <td>80.0</td>\n",
              "      <td>5.500</td>\n",
              "      <td>360.0</td>\n",
              "      <td>0</td>\n",
              "      <td>...</td>\n",
              "      <td>0</td>\n",
              "      <td>0</td>\n",
              "      <td>0</td>\n",
              "      <td>0</td>\n",
              "      <td>0</td>\n",
              "      <td>0</td>\n",
              "      <td>0</td>\n",
              "      <td>0</td>\n",
              "      <td>1</td>\n",
              "      <td>0</td>\n",
              "    </tr>\n",
              "  </tbody>\n",
              "</table>\n",
              "<p>5 rows × 46 columns</p>\n",
              "</div>"
            ],
            "text/plain": [
              "   action_taken  purchaser_type  preapproval  reverse_mortgage  \\\n",
              "0             5               2            1                 0   \n",
              "1             5               2            1                 0   \n",
              "2             5               2            1                 0   \n",
              "3             5               2            1                 0   \n",
              "4             5               2            1                 0   \n",
              "\n",
              "   open-end_line_of_credit  loan_amount  loan_to_value_ratio  interest_rate  \\\n",
              "0                        0     205000.0                 80.0          7.000   \n",
              "1                        0     235000.0                 80.0          6.500   \n",
              "2                        0     505000.0                 80.0          5.625   \n",
              "3                        0     685000.0                 80.0          6.375   \n",
              "4                        0     455000.0                 80.0          5.500   \n",
              "\n",
              "   loan_term  negative_amortization  ...  occupancy_type_2  occupancy_type_3  \\\n",
              "0      360.0                      0  ...                 0                 0   \n",
              "1      360.0                      0  ...                 0                 0   \n",
              "2      360.0                      0  ...                 0                 0   \n",
              "3      360.0                      0  ...                 0                 0   \n",
              "4      360.0                      0  ...                 0                 0   \n",
              "\n",
              "   submission_of_application_2  initially_payable_to_institution_2  aus-1_2  \\\n",
              "0                            0                                   0        0   \n",
              "1                            0                                   0        0   \n",
              "2                            0                                   0        0   \n",
              "3                            0                                   0        0   \n",
              "4                            0                                   0        0   \n",
              "\n",
              "   aus-1_3  aus-1_4  aus-1_5  aus-1_6  aus-1_7  \n",
              "0        0        0        0        1        0  \n",
              "1        0        0        0        1        0  \n",
              "2        0        0        0        1        0  \n",
              "3        0        0        0        1        0  \n",
              "4        0        0        0        1        0  \n",
              "\n",
              "[5 rows x 46 columns]"
            ]
          },
          "execution_count": 11,
          "metadata": {},
          "output_type": "execute_result"
        }
      ],
      "source": [
        "df_encoded.head()"
      ]
    },
    {
      "cell_type": "code",
      "execution_count": 12,
      "metadata": {},
      "outputs": [
        {
          "data": {
            "text/plain": [
              "Index(['action_taken', 'purchaser_type', 'preapproval', 'reverse_mortgage',\n",
              "       'open-end_line_of_credit', 'loan_amount', 'loan_to_value_ratio',\n",
              "       'interest_rate', 'loan_term', 'negative_amortization',\n",
              "       'interest_only_payment', 'balloon_payment',\n",
              "       'other_nonamortizing_features', 'property_value', 'total_units',\n",
              "       'income', 'applicant_credit_score_type',\n",
              "       'co-applicant_credit_score_type', 'applicant_age_above_62',\n",
              "       'co-applicant_age_above_62', 'tract_population',\n",
              "       'tract_minority_population_percent',\n",
              "       'ffiec_msa_md_median_family_income', 'tract_to_msa_income_percentage',\n",
              "       'tract_owner_occupied_units', 'tract_median_age_of_housing_units',\n",
              "       'derived_loan_product_type_FHA:First Lien',\n",
              "       'derived_loan_product_type_FSA/RHS:First Lien',\n",
              "       'derived_loan_product_type_VA:First Lien',\n",
              "       'derived_dwelling_category_Multifamily:Site-Built',\n",
              "       'derived_dwelling_category_Single Family (1-4 Units):Manufactured',\n",
              "       'loan_purpose_2', 'loan_purpose_4', 'loan_purpose_5', 'loan_purpose_31',\n",
              "       'loan_purpose_32', 'occupancy_type_2', 'occupancy_type_3',\n",
              "       'submission_of_application_2', 'initially_payable_to_institution_2',\n",
              "       'aus-1_2', 'aus-1_3', 'aus-1_4', 'aus-1_5', 'aus-1_6', 'aus-1_7'],\n",
              "      dtype='object')"
            ]
          },
          "execution_count": 12,
          "metadata": {},
          "output_type": "execute_result"
        }
      ],
      "source": [
        "df_encoded.columns"
      ]
    },
    {
      "cell_type": "code",
      "execution_count": null,
      "metadata": {},
      "outputs": [],
      "source": []
    },
    {
      "cell_type": "markdown",
      "metadata": {
        "id": "txzM_DiM7cpb"
      },
      "source": [
        "Models"
      ]
    },
    {
      "cell_type": "code",
      "execution_count": 13,
      "metadata": {
        "id": "Rbse6EjpM3vS"
      },
      "outputs": [],
      "source": [
        "# Define target variable (Loan Approval)\n",
        "X = df_encoded.drop(columns=['action_taken'])\n",
        "y = df_encoded['action_taken']\n",
        "\n",
        "X_train, X_test, y_train, y_test = train_test_split(X, y, test_size=0.25, random_state=42)"
      ]
    },
    {
      "cell_type": "code",
      "execution_count": 14,
      "metadata": {
        "colab": {
          "base_uri": "https://localhost:8080/"
        },
        "id": "bDRc74U97e8L",
        "outputId": "da2757ff-5d62-4201-9508-2dad5228168f"
      },
      "outputs": [],
      "source": [
        "# clf = RandomForestClassifier(n_estimators=100, random_state=42)\n",
        "# clf.fit(X_train, y_train)\n",
        "# y_pred = clf.predict(X_test)\n",
        "# print(\"Accuracy:\", accuracy_score(y_test, y_pred))\n",
        "# print(classification_report(y_test, y_pred))"
      ]
    },
    {
      "cell_type": "code",
      "execution_count": null,
      "metadata": {
        "colab": {
          "base_uri": "https://localhost:8080/",
          "height": 770
        },
        "id": "QBtgWhXs7iPJ",
        "outputId": "0cbae847-e62b-4dd4-de4c-12022d7fedc0"
      },
      "outputs": [
        {
          "ename": "NameError",
          "evalue": "name 'clf' is not defined",
          "output_type": "error",
          "traceback": [
            "\u001b[1;31m---------------------------------------------------------------------------\u001b[0m",
            "\u001b[1;31mNameError\u001b[0m                                 Traceback (most recent call last)",
            "Cell \u001b[1;32mIn[15], line 2\u001b[0m\n\u001b[0;32m      1\u001b[0m \u001b[38;5;66;03m# Get feature importance\u001b[39;00m\n\u001b[1;32m----> 2\u001b[0m importances \u001b[38;5;241m=\u001b[39m clf\u001b[38;5;241m.\u001b[39mfeature_importances_\n\u001b[0;32m      3\u001b[0m indices \u001b[38;5;241m=\u001b[39m np\u001b[38;5;241m.\u001b[39margsort(importances)[::\u001b[38;5;241m-\u001b[39m\u001b[38;5;241m1\u001b[39m]\n\u001b[0;32m      5\u001b[0m \u001b[38;5;66;03m# Plot top 10 features\u001b[39;00m\n",
            "\u001b[1;31mNameError\u001b[0m: name 'clf' is not defined"
          ]
        }
      ],
      "source": [
        "# # Get feature importance\n",
        "# importances = clf.feature_importances_\n",
        "# indices = np.argsort(importances)[::-1]\n",
        "\n",
        "# # Plot top 10 features\n",
        "# plt.figure(figsize=(10,6))\n",
        "# plt.title(\"Top 10 Feature Importances\")\n",
        "# plt.bar(range(10), importances[indices[:10]], align=\"center\")\n",
        "# plt.xticks(range(10), [X.columns[i] for i in indices[:10]], rotation=90)\n",
        "# plt.show()"
      ]
    },
    {
      "cell_type": "code",
      "execution_count": null,
      "metadata": {
        "id": "7HLGZggt7i_6"
      },
      "outputs": [],
      "source": []
    },
    {
      "cell_type": "markdown",
      "metadata": {
        "id": "3BQjRd157h9R"
      },
      "source": [
        "XG Boost Classifier"
      ]
    },
    {
      "cell_type": "code",
      "execution_count": 16,
      "metadata": {
        "colab": {
          "base_uri": "https://localhost:8080/"
        },
        "id": "y82Ahvso7lNk",
        "outputId": "ead6a5e1-edf7-4d86-9c22-3aab9199da52"
      },
      "outputs": [
        {
          "name": "stderr",
          "output_type": "stream",
          "text": [
            "c:\\Users\\MOHIT\\anaconda3\\Lib\\site-packages\\xgboost\\training.py:183: UserWarning: [17:31:32] WARNING: C:\\actions-runner\\_work\\xgboost\\xgboost\\src\\learner.cc:738: \n",
            "Parameters: { \"use_label_encoder\" } are not used.\n",
            "\n",
            "  bst.update(dtrain, iteration=i, fobj=obj)\n"
          ]
        },
        {
          "name": "stdout",
          "output_type": "stream",
          "text": [
            "🔹 XGBoost Results:\n",
            "Accuracy: 0.9297673067036234\n",
            "              precision    recall  f1-score   support\n",
            "\n",
            "           0       0.96      0.99      0.97     67458\n",
            "           1       0.71      0.18      0.29      2763\n",
            "           2       0.97      0.97      0.97     23020\n",
            "           3       0.79      0.93      0.85     17646\n",
            "           4       0.66      0.31      0.42      6285\n",
            "           5       1.00      1.00      1.00     16712\n",
            "           6       0.71      0.84      0.77        76\n",
            "           7       0.84      0.75      0.80       251\n",
            "\n",
            "    accuracy                           0.93    134211\n",
            "   macro avg       0.83      0.75      0.76    134211\n",
            "weighted avg       0.92      0.93      0.92    134211\n",
            "\n"
          ]
        }
      ],
      "source": [
        "# Initialize and train XGBoost model\n",
        "xgb = XGBClassifier(use_label_encoder=False, eval_metric='logloss', random_state=42)\n",
        "xgb.fit(X_train, y_train)\n",
        "\n",
        "# Predictions\n",
        "y_pred_xgb = xgb.predict(X_test)\n",
        "\n",
        "# Evaluate Performance\n",
        "print(\"🔹 XGBoost Results:\")\n",
        "print(\"Accuracy:\", accuracy_score(y_test, y_pred_xgb))\n",
        "print(classification_report(y_test, y_pred_xgb))"
      ]
    },
    {
      "cell_type": "code",
      "execution_count": 24,
      "metadata": {},
      "outputs": [
        {
          "name": "stdout",
          "output_type": "stream",
          "text": [
            "Frequency distribution of predictions:\n",
            "Counter({0: 69442, 2: 23187, 3: 20915, 5: 16712, 4: 2946, 1: 695, 7: 224, 6: 90})\n"
          ]
        }
      ],
      "source": [
        "from collections import Counter\n",
        "\n",
        "prediction_counts = Counter(y_pred_xgb.tolist())  # Convert to list first\n",
        "print(\"Frequency distribution of predictions:\")\n",
        "print(prediction_counts)\n"
      ]
    },
    {
      "cell_type": "code",
      "execution_count": 10,
      "metadata": {
        "id": "5kiXLK2w7pVj"
      },
      "outputs": [
        {
          "data": {
            "text/plain": [
              "['loan_approval_model.pkl']"
            ]
          },
          "execution_count": 10,
          "metadata": {},
          "output_type": "execute_result"
        }
      ],
      "source": [
        "import joblib\n",
        "joblib.dump(xgb, 'loan_approval_model.pkl')"
      ]
    },
    {
      "cell_type": "code",
      "execution_count": null,
      "metadata": {
        "id": "W7ItthJB8EIL"
      },
      "outputs": [],
      "source": []
    }
  ],
  "metadata": {
    "colab": {
      "provenance": []
    },
    "kernelspec": {
      "display_name": "base",
      "language": "python",
      "name": "python3"
    },
    "language_info": {
      "codemirror_mode": {
        "name": "ipython",
        "version": 3
      },
      "file_extension": ".py",
      "mimetype": "text/x-python",
      "name": "python",
      "nbconvert_exporter": "python",
      "pygments_lexer": "ipython3",
      "version": "3.11.5"
    }
  },
  "nbformat": 4,
  "nbformat_minor": 0
}
