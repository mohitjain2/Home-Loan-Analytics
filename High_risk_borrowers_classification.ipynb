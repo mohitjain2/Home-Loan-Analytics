{
  "cells": [
    {
      "cell_type": "markdown",
      "metadata": {
        "id": "dmY94paE-jg0"
      },
      "source": [
        "import data from database"
      ]
    },
    {
      "cell_type": "code",
      "execution_count": 2,
      "metadata": {
        "id": "NorBSJ6--tZ_"
      },
      "outputs": [],
      "source": [
        "import pandas as pd\n",
        "import matplotlib.pyplot as plt\n",
        "import sqlite3\n",
        "from sklearn.model_selection import train_test_split\n",
        "from sklearn.ensemble import RandomForestClassifier\n",
        "import numpy as np\n",
        "from xgboost import XGBClassifier\n",
        "import seaborn as sns\n",
        "from sklearn.feature_selection import VarianceThreshold\n",
        "from sklearn.preprocessing import StandardScaler\n",
        "from sklearn.linear_model import LogisticRegression\n",
        "from sklearn.metrics import accuracy_score, classification_report, confusion_matrix"
      ]
    },
    {
      "cell_type": "code",
      "execution_count": 4,
      "metadata": {
        "colab": {
          "base_uri": "https://localhost:8080/"
        },
        "id": "9r-jLq6cgpE2",
        "outputId": "88185974-7e89-4713-f7bb-fce73f4b0156"
      },
      "outputs": [],
      "source": [
        "# from google.colab import drive\n",
        "# drive.mount('/content/drive')"
      ]
    },
    {
      "cell_type": "code",
      "execution_count": 5,
      "metadata": {
        "colab": {
          "base_uri": "https://localhost:8080/"
        },
        "id": "2KHTwp61gmNH",
        "outputId": "a7237db3-0e0e-49eb-aeea-9929b310dea3"
      },
      "outputs": [
        {
          "name": "stdout",
          "output_type": "stream",
          "text": [
            "[('raw_data',), ('Loan_Approval',), ('Interest_Rate_Features',), ('Property_Values',), ('Risk_classifier',)]\n"
          ]
        }
      ],
      "source": [
        "# connect to sqlite3 database\n",
        "\n",
        "# Replace with your database file path in Google Drive\n",
        "db_path = 'my_database.db'\n",
        "\n",
        "conn = sqlite3.connect(db_path)\n",
        "cursor = conn.cursor()\n",
        "\n",
        "df= pd.read_sql(\"SELECT * FROM Risk_classifier\", conn)\n",
        "# Example query (replace with your actual query)\n",
        "cursor.execute(\"SELECT name FROM sqlite_master WHERE type='table';\")\n",
        "tables = cursor.fetchall()\n",
        "print(tables)\n",
        "\n",
        "conn.close()"
      ]
    },
    {
      "cell_type": "code",
      "execution_count": 10,
      "metadata": {},
      "outputs": [
        {
          "data": {
            "text/plain": [
              "Index(['debt_to_income_ratio', 'loan_to_value_ratio', 'interest_rate',\n",
              "       'loan_amount', 'rate_spread', 'total_loan_costs', 'origination_charges',\n",
              "       'loan_term', 'income', 'property_value', 'applicant_credit_score_type',\n",
              "       'co-applicant_credit_score_type', 'co-applicant_age',\n",
              "       'applicant_age_above_62', 'co-applicant_age_above_62', 'loan_type_2',\n",
              "       'loan_type_3', 'loan_type_4', 'loan_purpose_2', 'loan_purpose_4',\n",
              "       'loan_purpose_5', 'loan_purpose_31', 'loan_purpose_32',\n",
              "       'derived_loan_product_type_Conventional:Subordinate Lien',\n",
              "       'derived_loan_product_type_FHA:First Lien',\n",
              "       'derived_loan_product_type_FHA:Subordinate Lien',\n",
              "       'derived_loan_product_type_FSA/RHS:First Lien',\n",
              "       'derived_loan_product_type_FSA/RHS:Subordinate Lien',\n",
              "       'derived_loan_product_type_VA:First Lien',\n",
              "       'derived_loan_product_type_VA:Subordinate Lien', 'occupancy_type_2',\n",
              "       'occupancy_type_3', 'derived_dwelling_category_Multifamily:Site-Built',\n",
              "       'derived_dwelling_category_Single Family (1-4 Units):Manufactured',\n",
              "       'derived_dwelling_category_Single Family (1-4 Units):Site-Built',\n",
              "       'derived_msa-md', 'tract_minority_population_percent',\n",
              "       'ffiec_msa_md_median_family_income'],\n",
              "      dtype='object')"
            ]
          },
          "execution_count": 10,
          "metadata": {},
          "output_type": "execute_result"
        }
      ],
      "source": [
        "features.columns"
      ]
    },
    {
      "cell_type": "markdown",
      "metadata": {
        "id": "V_xK8JiU-tu1"
      },
      "source": [
        "Model"
      ]
    },
    {
      "cell_type": "code",
      "execution_count": 8,
      "metadata": {
        "colab": {
          "base_uri": "https://localhost:8080/"
        },
        "id": "pUgizZQP8xFL",
        "outputId": "f445a07d-71bc-4917-c1af-d90667d88c6b"
      },
      "outputs": [
        {
          "name": "stdout",
          "output_type": "stream",
          "text": [
            "\n",
            "Random Forest Model Performance (Multi-class Classification):\n",
            "Accuracy: 0.9989\n",
            "\n",
            "Confusion Matrix:\n",
            " [[  183   110     1     0     0]\n",
            " [    0  4065     7     0     0]\n",
            " [    0     0 63939     1     0]\n",
            " [    0     0     0 10950     0]\n",
            " [    0     0     0     0 28113]] \n",
            "\n",
            "Classification Report:\n",
            "               precision    recall  f1-score   support\n",
            "\n",
            "           1       1.00      0.62      0.77       294\n",
            "           2       0.97      1.00      0.99      4072\n",
            "           3       1.00      1.00      1.00     63940\n",
            "           4       1.00      1.00      1.00     10950\n",
            "           5       1.00      1.00      1.00     28113\n",
            "\n",
            "    accuracy                           1.00    107369\n",
            "   macro avg       0.99      0.92      0.95    107369\n",
            "weighted avg       1.00      1.00      1.00    107369\n",
            "\n",
            "\n",
            "Top 10 Most Important Features (RandomForest_Importance):\n",
            "                           Feature  RandomForest_Importance\n",
            "1              loan_to_value_ratio                 0.355787\n",
            "0             debt_to_income_ratio                 0.213826\n",
            "2                    interest_rate                 0.171760\n",
            "4                      rate_spread                 0.063747\n",
            "10     applicant_credit_score_type                 0.044580\n",
            "11  co-applicant_credit_score_type                 0.028214\n",
            "9                   property_value                 0.017431\n",
            "3                      loan_amount                 0.012654\n",
            "5                 total_loan_costs                 0.012298\n",
            "8                           income                 0.010060\n"
          ]
        }
      ],
      "source": [
        "# Step 1: Define Target & Features (Risk Level Multiclass)\n",
        "target = 'risk_level'\n",
        "features = df.drop(columns=[target])\n",
        "\n",
        "# Keep numeric features only\n",
        "features = features.select_dtypes(include=[np.number])\n",
        "\n",
        "# Step 2: Handle Missing Values\n",
        "features = features.fillna(features.median())\n",
        "\n",
        "# Step 3: Train-Test Split (Stratified for multi-class)\n",
        "X_train, X_test, y_train, y_test = train_test_split(\n",
        "    features, df[target],\n",
        "    test_size=0.2, random_state=42, stratify=df[target]\n",
        ")\n",
        "\n",
        "# Step 4: Model Training (Random Forest & XGBoost)\n",
        "models = {\n",
        "    \"Random Forest\": RandomForestClassifier(n_estimators=100, random_state=42),\n",
        "    #\"XGBoost\": XGBClassifier(use_label_encoder=False, eval_metric='mlogloss', random_state=42)\n",
        "}\n",
        "\n",
        "# Train and Evaluate Models with corrected labels for XGBoost\n",
        "for name, model in models.items():\n",
        "    if name == \"XGBoost\":\n",
        "        # Adjust labels for XGBoost\n",
        "        y_train_adj = y_train - 1\n",
        "        y_test_adj = y_test - 1\n",
        "\n",
        "        model.fit(X_train, y_train_adj)\n",
        "        y_pred = model.predict(X_test) + 1  # Shift predictions back to original labels\n",
        "    else:\n",
        "        model.fit(X_train, y_train)\n",
        "        y_pred = model.predict(X_test)\n",
        "\n",
        "    print(f\"\\n{name} Model Performance (Multi-class Classification):\")\n",
        "    print(f\"Accuracy: {accuracy_score(y_test, y_pred):.4f}\\n\")\n",
        "    print(\"Confusion Matrix:\\n\", confusion_matrix(y_test, y_pred), \"\\n\")\n",
        "    print(\"Classification Report:\\n\", classification_report(y_test, y_pred))\n",
        "\n",
        "# Step 5: Feature Importance\n",
        "rf_importances = models[\"Random Forest\"].feature_importances_\n",
        "#xgb_importances = models[\"XGBoost\"].feature_importances_\n",
        "\n",
        "feature_importance_df = pd.DataFrame({\n",
        "    \"Feature\": features.columns,\n",
        "    \"RandomForest_Importance\": rf_importances,\n",
        "#    \"XGBoost_Importance\": xgb_importances\n",
        "}).sort_values(by=\"RandomForest_Importance\", ascending=False)\n",
        "\n",
        "print(\"\\nTop 10 Most Important Features (RandomForest_Importance):\")\n",
        "print(feature_importance_df.head(10))"
      ]
    },
    {
      "cell_type": "code",
      "execution_count": 9,
      "metadata": {
        "id": "3bcSaTFPiFJR"
      },
      "outputs": [
        {
          "data": {
            "text/plain": [
              "['high_risk_model.pkl']"
            ]
          },
          "execution_count": 9,
          "metadata": {},
          "output_type": "execute_result"
        }
      ],
      "source": [
        "import joblib\n",
        "joblib.dump(model, 'high_risk_model.pkl')"
      ]
    },
    {
      "cell_type": "code",
      "execution_count": null,
      "metadata": {},
      "outputs": [],
      "source": []
    }
  ],
  "metadata": {
    "colab": {
      "provenance": []
    },
    "kernelspec": {
      "display_name": "base",
      "language": "python",
      "name": "python3"
    },
    "language_info": {
      "codemirror_mode": {
        "name": "ipython",
        "version": 3
      },
      "file_extension": ".py",
      "mimetype": "text/x-python",
      "name": "python",
      "nbconvert_exporter": "python",
      "pygments_lexer": "ipython3",
      "version": "3.11.5"
    }
  },
  "nbformat": 4,
  "nbformat_minor": 0
}
