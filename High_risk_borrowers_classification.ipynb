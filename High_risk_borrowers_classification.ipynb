{
  "nbformat": 4,
  "nbformat_minor": 0,
  "metadata": {
    "colab": {
      "provenance": []
    },
    "kernelspec": {
      "name": "python3",
      "display_name": "Python 3"
    },
    "language_info": {
      "name": "python"
    }
  },
  "cells": [
    {
      "cell_type": "markdown",
      "source": [
        "import data from database"
      ],
      "metadata": {
        "id": "dmY94paE-jg0"
      }
    },
    {
      "cell_type": "code",
      "source": [
        "import pandas as pd\n",
        "import matplotlib.pyplot as plt\n",
        "import sqlite3\n",
        "from sklearn.model_selection import train_test_split\n",
        "from sklearn.ensemble import RandomForestClassifier\n",
        "import numpy as np\n",
        "from xgboost import XGBClassifier\n",
        "import seaborn as sns\n",
        "from sklearn.feature_selection import VarianceThreshold\n",
        "from sklearn.preprocessing import StandardScaler\n",
        "from sklearn.linear_model import LogisticRegression\n",
        "from sklearn.metrics import accuracy_score, classification_report, confusion_matrix"
      ],
      "metadata": {
        "id": "NorBSJ6--tZ_"
      },
      "execution_count": 1,
      "outputs": []
    },
    {
      "cell_type": "code",
      "source": [
        "from google.colab import drive\n",
        "drive.mount('/content/drive')"
      ],
      "metadata": {
        "colab": {
          "base_uri": "https://localhost:8080/"
        },
        "id": "9r-jLq6cgpE2",
        "outputId": "88185974-7e89-4713-f7bb-fce73f4b0156"
      },
      "execution_count": 2,
      "outputs": [
        {
          "output_type": "stream",
          "name": "stdout",
          "text": [
            "Mounted at /content/drive\n"
          ]
        }
      ]
    },
    {
      "cell_type": "code",
      "source": [
        "# connect to sqlite3 database\n",
        "\n",
        "# Replace with your database file path in Google Drive\n",
        "db_path = '/content/drive/MyDrive/House Loan Analytics/my_database.db'\n",
        "\n",
        "conn = sqlite3.connect(db_path)\n",
        "cursor = conn.cursor()\n",
        "\n",
        "df= pd.read_sql(\"SELECT * FROM Risk_classifier\", conn)\n",
        "# Example query (replace with your actual query)\n",
        "cursor.execute(\"SELECT name FROM sqlite_master WHERE type='table';\")\n",
        "tables = cursor.fetchall()\n",
        "print(tables)\n",
        "\n",
        "conn.close()"
      ],
      "metadata": {
        "colab": {
          "base_uri": "https://localhost:8080/"
        },
        "id": "2KHTwp61gmNH",
        "outputId": "a7237db3-0e0e-49eb-aeea-9929b310dea3"
      },
      "execution_count": 4,
      "outputs": [
        {
          "output_type": "stream",
          "name": "stdout",
          "text": [
            "[('raw_data',), ('Loan_Approval',), ('Interest_Rate_Features',), ('Risk_classifier',)]\n"
          ]
        }
      ]
    },
    {
      "cell_type": "markdown",
      "source": [
        "Model"
      ],
      "metadata": {
        "id": "V_xK8JiU-tu1"
      }
    },
    {
      "cell_type": "code",
      "execution_count": 5,
      "metadata": {
        "colab": {
          "base_uri": "https://localhost:8080/"
        },
        "id": "pUgizZQP8xFL",
        "outputId": "f445a07d-71bc-4917-c1af-d90667d88c6b"
      },
      "outputs": [
        {
          "output_type": "stream",
          "name": "stdout",
          "text": [
            "\n",
            "Random Forest Model Performance (Multi-class Classification):\n",
            "Accuracy: 0.9796\n",
            "\n",
            "Confusion Matrix:\n",
            " [[   25   226    43     0     0]\n",
            " [    0 18091   744     0     0]\n",
            " [    0  1146 48029     2     0]\n",
            " [    0     1    15 10929     5]\n",
            " [    0     0     4     4 28105]] \n",
            "\n",
            "Classification Report:\n",
            "               precision    recall  f1-score   support\n",
            "\n",
            "           1       1.00      0.09      0.16       294\n",
            "           2       0.93      0.96      0.94     18835\n",
            "           3       0.98      0.98      0.98     49177\n",
            "           4       1.00      1.00      1.00     10950\n",
            "           5       1.00      1.00      1.00     28113\n",
            "\n",
            "    accuracy                           0.98    107369\n",
            "   macro avg       0.98      0.80      0.82    107369\n",
            "weighted avg       0.98      0.98      0.98    107369\n",
            "\n"
          ]
        },
        {
          "output_type": "stream",
          "name": "stderr",
          "text": [
            "/usr/local/lib/python3.11/dist-packages/xgboost/core.py:158: UserWarning: [19:46:14] WARNING: /workspace/src/learner.cc:740: \n",
            "Parameters: { \"use_label_encoder\" } are not used.\n",
            "\n",
            "  warnings.warn(smsg, UserWarning)\n"
          ]
        },
        {
          "output_type": "stream",
          "name": "stdout",
          "text": [
            "\n",
            "XGBoost Model Performance (Multi-class Classification):\n",
            "Accuracy: 0.9937\n",
            "\n",
            "Confusion Matrix:\n",
            " [[  294     0     0     0     0]\n",
            " [    0 18734   101     0     0]\n",
            " [    0   579 48598     0     0]\n",
            " [    0     0     0 10950     0]\n",
            " [    0     0     0     0 28113]] \n",
            "\n",
            "Classification Report:\n",
            "               precision    recall  f1-score   support\n",
            "\n",
            "           1       1.00      1.00      1.00       294\n",
            "           2       0.97      0.99      0.98     18835\n",
            "           3       1.00      0.99      0.99     49177\n",
            "           4       1.00      1.00      1.00     10950\n",
            "           5       1.00      1.00      1.00     28113\n",
            "\n",
            "    accuracy                           0.99    107369\n",
            "   macro avg       0.99      1.00      1.00    107369\n",
            "weighted avg       0.99      0.99      0.99    107369\n",
            "\n",
            "\n",
            "Top 10 Most Important Features (XGBoost):\n",
            "                                         Feature  RandomForest_Importance  \\\n",
            "82                   submission_of_application_3                 0.006565   \n",
            "9                            loan_to_value_ratio                 0.242199   \n",
            "10                                 interest_rate                 0.186700   \n",
            "12                                  hoepa_status                 0.025776   \n",
            "26                          debt_to_income_ratio                 0.097033   \n",
            "2                                   action_taken                 0.039180   \n",
            "74     manufactured_home_secured_property_type_3                 0.001677   \n",
            "75  manufactured_home_secured_property_type_1111                 0.002155   \n",
            "83                submission_of_application_1111                 0.002079   \n",
            "3                                 purchaser_type                 0.014510   \n",
            "\n",
            "    XGBoost_Importance  \n",
            "82            0.326252  \n",
            "9             0.125277  \n",
            "10            0.114091  \n",
            "12            0.082167  \n",
            "26            0.079699  \n",
            "2             0.044897  \n",
            "74            0.044263  \n",
            "75            0.041051  \n",
            "83            0.037466  \n",
            "3             0.019800  \n"
          ]
        }
      ],
      "source": [
        "# Step 1: Define Target & Features (Risk Level Multiclass)\n",
        "target = 'risk_level'\n",
        "features = df.drop(columns=[target])\n",
        "\n",
        "# Keep numeric features only\n",
        "features = features.select_dtypes(include=[np.number])\n",
        "\n",
        "# Step 2: Handle Missing Values\n",
        "features = features.fillna(features.median())\n",
        "\n",
        "# Step 3: Train-Test Split (Stratified for multi-class)\n",
        "X_train, X_test, y_train, y_test = train_test_split(\n",
        "    features, df[target],\n",
        "    test_size=0.2, random_state=42, stratify=df[target]\n",
        ")\n",
        "\n",
        "# Step 4: Model Training (Random Forest & XGBoost)\n",
        "models = {\n",
        "    \"Random Forest\": RandomForestClassifier(n_estimators=100, random_state=42),\n",
        "    \"XGBoost\": XGBClassifier(use_label_encoder=False, eval_metric='mlogloss', random_state=42)\n",
        "}\n",
        "\n",
        "# Train and Evaluate Models with corrected labels for XGBoost\n",
        "for name, model in models.items():\n",
        "    if name == \"XGBoost\":\n",
        "        # Adjust labels for XGBoost\n",
        "        y_train_adj = y_train - 1\n",
        "        y_test_adj = y_test - 1\n",
        "\n",
        "        model.fit(X_train, y_train_adj)\n",
        "        y_pred = model.predict(X_test) + 1  # Shift predictions back to original labels\n",
        "    else:\n",
        "        model.fit(X_train, y_train)\n",
        "        y_pred = model.predict(X_test)\n",
        "\n",
        "    print(f\"\\n{name} Model Performance (Multi-class Classification):\")\n",
        "    print(f\"Accuracy: {accuracy_score(y_test, y_pred):.4f}\\n\")\n",
        "    print(\"Confusion Matrix:\\n\", confusion_matrix(y_test, y_pred), \"\\n\")\n",
        "    print(\"Classification Report:\\n\", classification_report(y_test, y_pred))\n",
        "\n",
        "# Step 5: Feature Importance\n",
        "rf_importances = models[\"Random Forest\"].feature_importances_\n",
        "xgb_importances = models[\"XGBoost\"].feature_importances_\n",
        "\n",
        "feature_importance_df = pd.DataFrame({\n",
        "    \"Feature\": features.columns,\n",
        "    \"RandomForest_Importance\": rf_importances,\n",
        "    \"XGBoost_Importance\": xgb_importances\n",
        "}).sort_values(by=\"XGBoost_Importance\", ascending=False)\n",
        "\n",
        "print(\"\\nTop 10 Most Important Features (XGBoost):\")\n",
        "print(feature_importance_df.head(10))"
      ]
    },
    {
      "cell_type": "code",
      "source": [],
      "metadata": {
        "id": "3bcSaTFPiFJR"
      },
      "execution_count": null,
      "outputs": []
    }
  ]
}